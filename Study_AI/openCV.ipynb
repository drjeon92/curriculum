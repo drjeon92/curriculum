{
 "cells": [
  {
   "cell_type": "markdown",
   "metadata": {},
   "source": [
    "# openCV 소개\n",
    "> computer vision library (open source), 컴퓨터 비저닝을 위한 오픈소스 라이브러리\n",
    "> OpenCV(OpenSource Computer Vision Library: http://opencv.org)는 수백 개의 컴퓨터 비전 알고리즘을 포함합니다.\n",
    "\n",
    ">penCV는 1999년 Gary Bradsky에 의해 인텔에서 시작되었으며, 첫 번째 릴리스는 2000년에 출시되었다. Vadim Pisarevsky는 Gary Bradsky와 함께 Intel의 러시아 소프트웨어 OpenCV 팀을 관리하였다. 2005년, OpenCV는 2005년 DARPA 그랜드 챌린지를 우승한 스탠리에서 사용되었다. 이후, Gary Bradsky와 Vadim Pisarevsky가 프로젝트를 이끌면서 Willow Garage의 지원 아래 활발한 개발이 계속되었다. OpenCV는 이제 Computer Vision 및 Machine Learning과 관련된 다양한 알고리즘을 지원하며 날로 확장되고 있습니다.\n",
    "---\n",
    "유사한 라이브러리는 Zbar(https://github.com/ZBar/ZBar) 가 있습니다."
   ]
  },
  {
   "cell_type": "markdown",
   "metadata": {},
   "source": [
    "## 할수 있는 일\n",
    "* core : 고밀도 다차원 배열 Mat 및 다른 모든 모듈에서 사용하는 기본 함수를 포함하여 기본 데이터 구조를 정의하는 소형 모듈.\n",
    "* imgproc : 선형 및 비선형 이미지 필터링, 기하학적 이미지 변환(크기 조정, 아핀 및 투시 왜곡, 일반 테이블 기반 재매핑), 색 공간 변환, 히스토그램 등을 포함하는 이미지 처리 모듈입니다.\n",
    "* video analysis : 움직임 추정, 배경 감산 및 객체 추적 알고리즘을 포함하는 비디오 분석 모듈입니다.\n",
    "* Camera Calibration and 3D Reconstruction : 기본 다중 뷰 지오메트리 알고리즘, 단일 및 스테레오 카메라 보정, 객체 포즈 추정, 스테레오 대응 알고리즘 및 3D 재구성의 요소.\n",
    "* 2D Features Framework : 두드러진 특징 감지, 설명 및 설명 일치기\n",
    "* Object Detection : 미리 정의된 클래스의 개체 및 인스턴스(예: 얼굴, 눈, 머그컵, 사람, 자동차 등)를 탐지\n",
    "* High-level GUI : 간단한 UI 기능을 위한 사용하기 쉬운 인터페이스\n",
    "* Video I/O : 비디오 갭처 및 비디오 코텍에 대한 사용이 간편한 인터페이스\n",
    "* 그리고 FLANN, Google 테스트 래퍼, 파이썬 바인딩과 기타 모듈들을 활용\n",
    "---\n",
    "[공식문서 바로가기(새창)](https://docs.opencv.org/master)"
   ]
  },
  {
   "cell_type": "markdown",
   "metadata": {},
   "source": [
    "<div class=\"alert alert-info\">\n",
    "<b>주목!</b> opencv 모듈을 설치해보세요! 사전에 반드시 pip install --upgrade pip로 pip를 최신으로 업그레이드 하세요!\n",
    "<div>"
   ]
  },
  {
   "cell_type": "markdown",
   "metadata": {},
   "source": [
    "## 설치 및 사용법\n",
    "* 수동설치 또는 이전버전 설치는 충돌의 위험이 있습니다.\n",
    "* openCV는 1~4 패키지가 있는데, 이들 중 한가지만 설치하길 바랍니다. (단, 네임스페이스는 cv2로 모두 동일함)\n",
    "---\n",
    "* 기존버전 삭제 > pip uninstall \n",
    "* 새로운 버전 설치 pip install opencv-python 또는 opencv-contrib-python (full package : 메인 및 기타 모듈 포함됨)"
   ]
  },
  {
   "cell_type": "markdown",
   "metadata": {},
   "source": [
    "<div class=\"alert alert-danger\">\n",
    "<b>주의!</b> 주피터노트북에서는 매직 명령어로 설치(ex. !pip install opencv-python)\n",
    "<div>"
   ]
  },
  {
   "cell_type": "markdown",
   "metadata": {},
   "source": [
    "## OpenCV 패키지 종류"
   ]
  },
  {
   "cell_type": "markdown",
   "metadata": {},
   "source": [
    "### a. 표준 데스크톱 환경 패키지(win, mac, gnu/linux)\n",
    "* 옵션1. 주 모듈 패키지 : pip install opencv-python\n",
    "* 옵션2. 풀 패키지(주모듈+추가모듈) : pip install opencv-contrib-python"
   ]
  },
  {
   "cell_type": "markdown",
   "metadata": {},
   "source": [
    "### b.서버(headless) 환경 (docker, cloud)\n",
    "* GUI library 종속성 없는 환경\n",
    "* 모듈이 가볍고 작다는 특징이 있음\n",
    "* cv2.imshow() 를 사용하지 않을 경우 선택\n",
    "* 또는 openCV가 아닌 PyQt를 사용해 GUI를 만들경우 사용"
   ]
  },
  {
   "cell_type": "markdown",
   "metadata": {},
   "source": [
    "#### c. 헤드리스 메인 모듈 패키지\n",
    "* pip install opencv-python-headless"
   ]
  },
  {
   "cell_type": "markdown",
   "metadata": {},
   "source": [
    "####  d. 헤드리스 풀 패키지\n",
    "* pip install opencv-contrib-python-headless"
   ]
  },
  {
   "cell_type": "markdown",
   "metadata": {},
   "source": [
    "<div class=\"alert alert-info\">\n",
    "<b>실습!</b> opencv 모듈을 선택하여 설치하세요!\n",
    "<div>"
   ]
  },
  {
   "cell_type": "code",
   "execution_count": null,
   "metadata": {},
   "outputs": [],
   "source": [
    "'''\n",
    "OpenCV 패키지 설치하기 - 대게의 경우는 a.표준데스크톱 환경을 선택하면 됩니다.\n",
    "주피터노트북> !pip install opencv-python\n",
    "'''\n",
    "!pip install opencv-python"
   ]
  },
  {
   "cell_type": "markdown",
   "metadata": {},
   "source": [
    "## 모듈 임포트\n",
    "* opencv 모듈을 불러줍니다.\n",
    "* import cv2"
   ]
  },
  {
   "cell_type": "markdown",
   "metadata": {},
   "source": [
    "<div class=\"alert alert-info\">\n",
    "<b>실습!</b> opencv 모듈을 임포트하세요!\n",
    "<div>"
   ]
  },
  {
   "cell_type": "code",
   "execution_count": null,
   "metadata": {},
   "outputs": [],
   "source": [
    "import cv2\n",
    "# import cv2 as cv"
   ]
  },
  {
   "cell_type": "markdown",
   "metadata": {},
   "source": [
    "### Core 기능\n",
    "* 기본 사용법 : 픽셀 편집, 기하학적 변환, 코드 최적화, 일부 수학적 도구 등과 같은 이미지에 대한 기본 작업에 대해 배우게 됩니다.\n",
    "---\n",
    "* 픽셀 액세스 및 편집\n",
    "* 이미지 속성 액세스\n",
    "* 관심 영역 지정(ROI)\n",
    "* 이미지 분할 및 병합"
   ]
  },
  {
   "cell_type": "markdown",
   "metadata": {},
   "source": [
    "<div class=\"alert alert-warning\">\n",
    "<b>체크!</b> 샘플이미지가 사전에 준비되어야 합니다.\n",
    "</div>"
   ]
  },
  {
   "cell_type": "markdown",
   "metadata": {},
   "source": [
    "<div class=\"alert alert-info\">\n",
    "<b>참고! </b> os 모듈을 이용해서 현재 작업중인 파일위치(os.getcwd())를 확인하세요\n",
    "</div>"
   ]
  },
  {
   "cell_type": "code",
   "execution_count": 47,
   "metadata": {
    "scrolled": true
   },
   "outputs": [
    {
     "name": "stdout",
     "output_type": "stream",
     "text": [
      "원래의 px 값: [ 37  77 142]\n",
      "변경된 px : [255 255 255]\n"
     ]
    }
   ],
   "source": [
    "# 픽셀 액세스 및 편집 실습\n",
    "# 이미지는 BGR(Blue, Green, Red) 형태로 1픽셀을 구성하고 있습니다.\n",
    "# grayscale 이미지는 픽셀의 강도만 반환합니다.\n",
    "\n",
    "import numpy as np\n",
    "import cv2 as cv\n",
    "\n",
    "# 이미지를 읽어들여 ndarray로 변경됩니다.\n",
    "img = cv.imread('static/sample.jpg')\n",
    "\n",
    "# print(type(img))\n",
    "# print(img.shape)\n",
    "# print(img.dtype)\n",
    "\n",
    "# 1.이미지 액세스\n",
    "px = img[100, 100]\n",
    "print(f'원래의 px 값: {px}')\n",
    "\n",
    "# 2. 이미지 편집(픽셀)\n",
    "img[100, 100] = [255,255,255]\n",
    "print(f'변경된 px : {img[100,100]}')"
   ]
  },
  {
   "cell_type": "code",
   "execution_count": 51,
   "metadata": {},
   "outputs": [
    {
     "name": "stdout",
     "output_type": "stream",
     "text": [
      "(225, 400, 3)\n",
      "270000\n",
      "uint8\n"
     ]
    }
   ],
   "source": [
    "# 3. 이미지 속성 액세스\n",
    "# 컬러 이미지 속성 : [row, column, channel]\n",
    "# 그레이스케일 이미지 속성 : (row, column)\n",
    "grayscale_img = cv.imread('static/sample_grayscale.jpg')\n",
    "print(grayscale_img.shape)\n",
    "print(grayscale_img.size)\n",
    "print(grayscale_img.dtype)"
   ]
  },
  {
   "cell_type": "code",
   "execution_count": null,
   "metadata": {},
   "outputs": [],
   "source": [
    "# 이미지 관심영역 지정하기(ROI)\n",
    "# Region of Interest, ROI \n",
    "photo = cv.imread('static/messi.jpg')\n",
    "ball = photo[280:340, 330:390]\n",
    "photo[273:333, 100:160] = photo"
   ]
  },
  {
   "cell_type": "code",
   "execution_count": null,
   "metadata": {},
   "outputs": [],
   "source": [
    "# 이미지 분리 및 병합\n",
    "# .split() 보다는 numpy indexing이 효율적임\n",
    "b,g,r = cv.split(photo)\n",
    "pic = cv.merge((b,g,r))\n",
    "cv.imshow('pic', pic)\n",
    "cv.waitKey(0)\n",
    "cv.destroyAllWindows()"
   ]
  },
  {
   "cell_type": "code",
   "execution_count": null,
   "metadata": {},
   "outputs": [],
   "source": []
  }
 ],
 "metadata": {
  "kernelspec": {
   "display_name": "Python 3",
   "language": "python",
   "name": "python3"
  },
  "language_info": {
   "codemirror_mode": {
    "name": "ipython",
    "version": 3
   },
   "file_extension": ".py",
   "mimetype": "text/x-python",
   "name": "python",
   "nbconvert_exporter": "python",
   "pygments_lexer": "ipython3",
   "version": "3.8.5"
  },
  "toc": {
   "base_numbering": 1,
   "nav_menu": {},
   "number_sections": true,
   "sideBar": true,
   "skip_h1_title": false,
   "title_cell": "Table of Contents",
   "title_sidebar": "Contents",
   "toc_cell": false,
   "toc_position": {},
   "toc_section_display": true,
   "toc_window_display": false
  },
  "varInspector": {
   "cols": {
    "lenName": 16,
    "lenType": 16,
    "lenVar": 40
   },
   "kernels_config": {
    "python": {
     "delete_cmd_postfix": "",
     "delete_cmd_prefix": "del ",
     "library": "var_list.py",
     "varRefreshCmd": "print(var_dic_list())"
    },
    "r": {
     "delete_cmd_postfix": ") ",
     "delete_cmd_prefix": "rm(",
     "library": "var_list.r",
     "varRefreshCmd": "cat(var_dic_list()) "
    }
   },
   "types_to_exclude": [
    "module",
    "function",
    "builtin_function_or_method",
    "instance",
    "_Feature"
   ],
   "window_display": false
  }
 },
 "nbformat": 4,
 "nbformat_minor": 4
}
