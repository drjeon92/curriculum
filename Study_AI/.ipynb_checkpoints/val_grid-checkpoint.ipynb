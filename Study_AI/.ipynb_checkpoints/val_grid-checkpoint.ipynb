{
 "cells": [
  {
   "cell_type": "code",
   "execution_count": 35,
   "metadata": {},
   "outputs": [],
   "source": [
    "import pandas as pd\n",
    "import matplotlib.pyplot as plt"
   ]
  },
  {
   "cell_type": "code",
   "execution_count": 36,
   "metadata": {},
   "outputs": [
    {
     "data": {
      "text/html": [
       "<div>\n",
       "<style scoped>\n",
       "    .dataframe tbody tr th:only-of-type {\n",
       "        vertical-align: middle;\n",
       "    }\n",
       "\n",
       "    .dataframe tbody tr th {\n",
       "        vertical-align: top;\n",
       "    }\n",
       "\n",
       "    .dataframe thead th {\n",
       "        text-align: right;\n",
       "    }\n",
       "</style>\n",
       "<table border=\"1\" class=\"dataframe\">\n",
       "  <thead>\n",
       "    <tr style=\"text-align: right;\">\n",
       "      <th></th>\n",
       "      <th>alcohol</th>\n",
       "      <th>sugar</th>\n",
       "      <th>pH</th>\n",
       "      <th>class</th>\n",
       "    </tr>\n",
       "  </thead>\n",
       "  <tbody>\n",
       "    <tr>\n",
       "      <th>0</th>\n",
       "      <td>9.4</td>\n",
       "      <td>1.9</td>\n",
       "      <td>3.51</td>\n",
       "      <td>0.0</td>\n",
       "    </tr>\n",
       "    <tr>\n",
       "      <th>1</th>\n",
       "      <td>9.8</td>\n",
       "      <td>2.6</td>\n",
       "      <td>3.20</td>\n",
       "      <td>0.0</td>\n",
       "    </tr>\n",
       "    <tr>\n",
       "      <th>2</th>\n",
       "      <td>9.8</td>\n",
       "      <td>2.3</td>\n",
       "      <td>3.26</td>\n",
       "      <td>0.0</td>\n",
       "    </tr>\n",
       "    <tr>\n",
       "      <th>3</th>\n",
       "      <td>9.8</td>\n",
       "      <td>1.9</td>\n",
       "      <td>3.16</td>\n",
       "      <td>0.0</td>\n",
       "    </tr>\n",
       "    <tr>\n",
       "      <th>4</th>\n",
       "      <td>9.4</td>\n",
       "      <td>1.9</td>\n",
       "      <td>3.51</td>\n",
       "      <td>0.0</td>\n",
       "    </tr>\n",
       "    <tr>\n",
       "      <th>...</th>\n",
       "      <td>...</td>\n",
       "      <td>...</td>\n",
       "      <td>...</td>\n",
       "      <td>...</td>\n",
       "    </tr>\n",
       "    <tr>\n",
       "      <th>6492</th>\n",
       "      <td>11.2</td>\n",
       "      <td>1.6</td>\n",
       "      <td>3.27</td>\n",
       "      <td>1.0</td>\n",
       "    </tr>\n",
       "    <tr>\n",
       "      <th>6493</th>\n",
       "      <td>9.6</td>\n",
       "      <td>8.0</td>\n",
       "      <td>3.15</td>\n",
       "      <td>1.0</td>\n",
       "    </tr>\n",
       "    <tr>\n",
       "      <th>6494</th>\n",
       "      <td>9.4</td>\n",
       "      <td>1.2</td>\n",
       "      <td>2.99</td>\n",
       "      <td>1.0</td>\n",
       "    </tr>\n",
       "    <tr>\n",
       "      <th>6495</th>\n",
       "      <td>12.8</td>\n",
       "      <td>1.1</td>\n",
       "      <td>3.34</td>\n",
       "      <td>1.0</td>\n",
       "    </tr>\n",
       "    <tr>\n",
       "      <th>6496</th>\n",
       "      <td>11.8</td>\n",
       "      <td>0.8</td>\n",
       "      <td>3.26</td>\n",
       "      <td>1.0</td>\n",
       "    </tr>\n",
       "  </tbody>\n",
       "</table>\n",
       "<p>6497 rows × 4 columns</p>\n",
       "</div>"
      ],
      "text/plain": [
       "      alcohol  sugar    pH  class\n",
       "0         9.4    1.9  3.51    0.0\n",
       "1         9.8    2.6  3.20    0.0\n",
       "2         9.8    2.3  3.26    0.0\n",
       "3         9.8    1.9  3.16    0.0\n",
       "4         9.4    1.9  3.51    0.0\n",
       "...       ...    ...   ...    ...\n",
       "6492     11.2    1.6  3.27    1.0\n",
       "6493      9.6    8.0  3.15    1.0\n",
       "6494      9.4    1.2  2.99    1.0\n",
       "6495     12.8    1.1  3.34    1.0\n",
       "6496     11.8    0.8  3.26    1.0\n",
       "\n",
       "[6497 rows x 4 columns]"
      ]
     },
     "execution_count": 36,
     "metadata": {},
     "output_type": "execute_result"
    }
   ],
   "source": [
    "# 우리가 했던 와인데이터 간단한버전\n",
    "wine = pd.read_csv(\"https://bit.ly/wine-date\")\n",
    "wine"
   ]
  },
  {
   "cell_type": "code",
   "execution_count": 37,
   "metadata": {},
   "outputs": [],
   "source": [
    "X = wine.iloc[:, :-1]"
   ]
  },
  {
   "cell_type": "code",
   "execution_count": 38,
   "metadata": {},
   "outputs": [],
   "source": [
    "y = wine.iloc[:, -1]"
   ]
  },
  {
   "cell_type": "code",
   "execution_count": 39,
   "metadata": {},
   "outputs": [],
   "source": [
    "from sklearn.model_selection import train_test_split"
   ]
  },
  {
   "cell_type": "code",
   "execution_count": 40,
   "metadata": {},
   "outputs": [],
   "source": [
    "X_train, X_test, y_train, y_test = train_test_split(X, y, test_size=0.2, random_state=7)"
   ]
  },
  {
   "cell_type": "code",
   "execution_count": 41,
   "metadata": {},
   "outputs": [
    {
     "data": {
      "text/plain": [
       "((5197, 3), (1300, 3), (5197,), (1300,))"
      ]
     },
     "execution_count": 41,
     "metadata": {},
     "output_type": "execute_result"
    }
   ],
   "source": [
    "X_train.shape, X_test.shape, y_train.shape, y_test.shape"
   ]
  },
  {
   "cell_type": "code",
   "execution_count": 42,
   "metadata": {},
   "outputs": [],
   "source": [
    "# 기본 의사결정나무 모델 만들기\n",
    "from sklearn.tree import DecisionTreeClassifier"
   ]
  },
  {
   "cell_type": "code",
   "execution_count": 43,
   "metadata": {},
   "outputs": [
    {
     "data": {
      "text/plain": [
       "DecisionTreeClassifier()"
      ]
     },
     "execution_count": 43,
     "metadata": {},
     "output_type": "execute_result"
    }
   ],
   "source": [
    "model = DecisionTreeClassifier()\n",
    "model.fit(X_train, y_train)"
   ]
  },
  {
   "cell_type": "code",
   "execution_count": 44,
   "metadata": {},
   "outputs": [
    {
     "data": {
      "text/plain": [
       "0.8746153846153846"
      ]
     },
     "execution_count": 44,
     "metadata": {},
     "output_type": "execute_result"
    }
   ],
   "source": [
    "model.score(X_test, y_test)"
   ]
  },
  {
   "cell_type": "code",
   "execution_count": 45,
   "metadata": {},
   "outputs": [
    {
     "data": {
      "text/plain": [
       "0.9971137194535309"
      ]
     },
     "execution_count": 45,
     "metadata": {},
     "output_type": "execute_result"
    }
   ],
   "source": [
    "model.score(X_train, y_train)"
   ]
  },
  {
   "cell_type": "code",
   "execution_count": 46,
   "metadata": {},
   "outputs": [],
   "source": [
    "# 교차검증\n",
    "from sklearn.model_selection import cross_validate\n",
    "from sklearn.model_selection import StratifiedKFold"
   ]
  },
  {
   "cell_type": "code",
   "execution_count": 47,
   "metadata": {},
   "outputs": [
    {
     "data": {
      "text/plain": [
       "{'fit_time': array([0.00997329, 0.01093793, 0.00798345, 0.00794649, 0.00797915,\n",
       "        0.00894809, 0.0090096 , 0.00797868, 0.00897384, 0.009974  ,\n",
       "        0.00894308, 0.00800633, 0.00896597, 0.009974  , 0.0079782 ,\n",
       "        0.00897574, 0.00797915, 0.0079782 , 0.00898433, 0.00894761,\n",
       "        0.00893545, 0.00800419, 0.00697923, 0.00698209, 0.00800705,\n",
       "        0.00800514, 0.0069859 , 0.00797963, 0.00797558, 0.00697994,\n",
       "        0.00798106, 0.00697255, 0.00797963, 0.00795817, 0.00797439,\n",
       "        0.00797868, 0.00797868, 0.00795078, 0.00694871, 0.00797868,\n",
       "        0.0070107 , 0.00698686, 0.00695062, 0.00798225, 0.00797129,\n",
       "        0.00698543, 0.00798631, 0.00698638, 0.00698304, 0.0069797 ,\n",
       "        0.00798345, 0.00698304, 0.00697446, 0.00798202, 0.0079782 ,\n",
       "        0.00698376, 0.00798583, 0.00797391, 0.00800657, 0.0069809 ,\n",
       "        0.00798297, 0.00894451, 0.00897598, 0.00997281, 0.00798392,\n",
       "        0.00797319, 0.00797415, 0.00798297, 0.00894284, 0.00997376,\n",
       "        0.00897527, 0.0099647 , 0.00797772, 0.00795865, 0.00897622,\n",
       "        0.00995159, 0.00800562, 0.00897384, 0.00896668, 0.00996232,\n",
       "        0.00798321, 0.0089736 , 0.00996447, 0.0099988 , 0.00695419,\n",
       "        0.00898051, 0.00698137, 0.00698137, 0.00797963, 0.00798202,\n",
       "        0.00697803, 0.00698113, 0.0080092 , 0.00798297, 0.00797629,\n",
       "        0.00797868, 0.00797844, 0.00697875, 0.00797868, 0.00798392]),\n",
       " 'score_time': array([0.00202298, 0.00099802, 0.00199509, 0.00199437, 0.00202131,\n",
       "        0.00199533, 0.00199509, 0.00099754, 0.00099683, 0.00099945,\n",
       "        0.0009973 , 0.00099802, 0.00101328, 0.00099349, 0.00199819,\n",
       "        0.00199056, 0.00199461, 0.00100207, 0.00199556, 0.00203609,\n",
       "        0.00199509, 0.00199628, 0.00199509, 0.00196743, 0.00097013,\n",
       "        0.00099659, 0.00199628, 0.00099421, 0.00199509, 0.00099897,\n",
       "        0.00099754, 0.0009985 , 0.00199127, 0.00102496, 0.00099587,\n",
       "        0.00099683, 0.00099897, 0.00102782, 0.00199437, 0.0009973 ,\n",
       "        0.00099874, 0.0019629 , 0.00102925, 0.00099754, 0.00097251,\n",
       "        0.00099707, 0.00099373, 0.00199008, 0.00099492, 0.00099707,\n",
       "        0.00099444, 0.00099564, 0.00100064, 0.00099492, 0.00099826,\n",
       "        0.00199461, 0.00099182, 0.00096941, 0.00099707, 0.00199604,\n",
       "        0.00099564, 0.00199461, 0.00199509, 0.00101113, 0.00199485,\n",
       "        0.00100207, 0.00099897, 0.00099897, 0.00199699, 0.00199389,\n",
       "        0.00199533, 0.00099564, 0.00099778, 0.00199199, 0.00102615,\n",
       "        0.00098872, 0.00199962, 0.00100088, 0.00100589, 0.00100756,\n",
       "        0.00099945, 0.00200367, 0.00196409, 0.00099945, 0.00102377,\n",
       "        0.00099397, 0.00099826, 0.00099874, 0.00199413, 0.0010016 ,\n",
       "        0.00199389, 0.00196385, 0.00099421, 0.0009973 , 0.0009954 ,\n",
       "        0.0009973 , 0.00096989, 0.00099683, 0.00099778, 0.00099611]),\n",
       " 'test_score': array([0.88461538, 0.84615385, 0.88461538, 0.88461538, 0.88461538,\n",
       "        0.92307692, 0.84615385, 0.86538462, 0.88461538, 0.84615385,\n",
       "        0.90384615, 0.78846154, 0.86538462, 0.82692308, 0.92307692,\n",
       "        0.92307692, 0.90384615, 0.86538462, 0.76923077, 0.90384615,\n",
       "        0.92307692, 0.88461538, 0.88461538, 0.82692308, 0.86538462,\n",
       "        0.84615385, 0.84615385, 0.92307692, 0.84615385, 0.80769231,\n",
       "        0.73076923, 0.84615385, 0.86538462, 0.82692308, 0.94230769,\n",
       "        0.88461538, 0.88461538, 0.86538462, 0.90384615, 0.88461538,\n",
       "        0.84615385, 0.75      , 0.88461538, 0.82692308, 0.84615385,\n",
       "        0.86538462, 0.86538462, 0.90384615, 0.80769231, 0.90384615,\n",
       "        0.86538462, 0.84615385, 0.88461538, 0.82692308, 0.90384615,\n",
       "        0.94230769, 0.90384615, 0.86538462, 0.92307692, 0.88461538,\n",
       "        0.82692308, 0.90384615, 0.86538462, 0.84615385, 0.90384615,\n",
       "        0.84615385, 0.88461538, 0.84615385, 0.78846154, 0.92307692,\n",
       "        0.82692308, 0.88461538, 0.90384615, 0.86538462, 0.88461538,\n",
       "        0.90384615, 0.90384615, 0.82692308, 0.82692308, 0.90384615,\n",
       "        0.84615385, 0.75      , 0.82692308, 0.84615385, 0.92307692,\n",
       "        0.76923077, 0.88461538, 0.82692308, 0.90384615, 0.88461538,\n",
       "        0.84615385, 0.88461538, 0.88461538, 0.90384615, 0.78846154,\n",
       "        0.94230769, 0.88461538, 0.84313725, 0.82352941, 0.92156863])}"
      ]
     },
     "execution_count": 47,
     "metadata": {},
     "output_type": "execute_result"
    }
   ],
   "source": [
    "scores = cross_validate(model, X_train, y_train, cv=StratifiedKFold(n_splits=100))\n",
    "scores"
   ]
  },
  {
   "cell_type": "code",
   "execution_count": 48,
   "metadata": {
    "scrolled": true
   },
   "outputs": [
    {
     "data": {
      "text/plain": [
       "0.8660746606334847"
      ]
     },
     "execution_count": 48,
     "metadata": {},
     "output_type": "execute_result"
    }
   ],
   "source": [
    "pd.Series(scores[\"test_score\"]).mean()"
   ]
  },
  {
   "cell_type": "code",
   "execution_count": null,
   "metadata": {},
   "outputs": [],
   "source": []
  },
  {
   "cell_type": "code",
   "execution_count": null,
   "metadata": {},
   "outputs": [],
   "source": []
  },
  {
   "cell_type": "code",
   "execution_count": 49,
   "metadata": {},
   "outputs": [],
   "source": [
    "# 그리드 서치를 통한 최적의 하이퍼파라미터 튜닝"
   ]
  },
  {
   "cell_type": "code",
   "execution_count": 50,
   "metadata": {},
   "outputs": [],
   "source": [
    "from sklearn.model_selection import GridSearchCV"
   ]
  },
  {
   "cell_type": "code",
   "execution_count": 51,
   "metadata": {},
   "outputs": [],
   "source": [
    "params = {\n",
    "    \"max_depth\":range(1, 21, 1),\n",
    "    \"min_impurity_decrease\":[0.0001,0.0002,0.003,0.0004,0.0005]\n",
    "}\n",
    "\n",
    "# 이 매개변수로 수행할 교차검증 횟수는 5*20=100\n",
    "# 기본 5-폴드 교차검증수행 100*5=500\n",
    "# 모델생성 개수 500개"
   ]
  },
  {
   "cell_type": "code",
   "execution_count": 52,
   "metadata": {},
   "outputs": [],
   "source": [
    "model = DecisionTreeClassifier()"
   ]
  },
  {
   "cell_type": "code",
   "execution_count": 53,
   "metadata": {},
   "outputs": [],
   "source": [
    "gs = GridSearchCV(model, params)"
   ]
  },
  {
   "cell_type": "code",
   "execution_count": 54,
   "metadata": {},
   "outputs": [
    {
     "data": {
      "text/plain": [
       "GridSearchCV(estimator=DecisionTreeClassifier(),\n",
       "             param_grid={'max_depth': range(1, 21),\n",
       "                         'min_impurity_decrease': [0.0001, 0.0002, 0.003,\n",
       "                                                   0.0004, 0.0005]})"
      ]
     },
     "execution_count": 54,
     "metadata": {},
     "output_type": "execute_result"
    }
   ],
   "source": [
    "gs.fit(X_train, y_train)"
   ]
  },
  {
   "cell_type": "code",
   "execution_count": 55,
   "metadata": {},
   "outputs": [
    {
     "data": {
      "text/plain": [
       "{'max_depth': 17, 'min_impurity_decrease': 0.0002}"
      ]
     },
     "execution_count": 55,
     "metadata": {},
     "output_type": "execute_result"
    }
   ],
   "source": [
    "gs.best_params_"
   ]
  },
  {
   "cell_type": "code",
   "execution_count": 56,
   "metadata": {},
   "outputs": [
    {
     "data": {
      "text/plain": [
       "DecisionTreeClassifier(max_depth=18, min_impurity_decrease=0.0002)"
      ]
     },
     "execution_count": 56,
     "metadata": {},
     "output_type": "execute_result"
    }
   ],
   "source": [
    "model_final = DecisionTreeClassifier(max_depth=18, min_impurity_decrease=0.0002)\n",
    "model_final.fit(X_train, y_train)"
   ]
  },
  {
   "cell_type": "code",
   "execution_count": 57,
   "metadata": {},
   "outputs": [],
   "source": [
    "model_final = gs.best_estimator_"
   ]
  },
  {
   "cell_type": "code",
   "execution_count": 58,
   "metadata": {
    "scrolled": false
   },
   "outputs": [
    {
     "data": {
      "text/plain": [
       "0.8761538461538462"
      ]
     },
     "execution_count": 58,
     "metadata": {},
     "output_type": "execute_result"
    }
   ],
   "source": [
    "model_final.score(X_test, y_test)"
   ]
  },
  {
   "cell_type": "code",
   "execution_count": 59,
   "metadata": {},
   "outputs": [],
   "source": [
    "# 랜덤서치\n",
    "from sklearn.model_selection import RandomizedSearchCV\n",
    "from scipy.stats import randint"
   ]
  },
  {
   "cell_type": "code",
   "execution_count": 60,
   "metadata": {},
   "outputs": [
    {
     "data": {
      "text/plain": [
       "2"
      ]
     },
     "execution_count": 60,
     "metadata": {},
     "output_type": "execute_result"
    }
   ],
   "source": [
    "a = randint(1, 10)\n",
    "a.rvs()"
   ]
  },
  {
   "cell_type": "code",
   "execution_count": 61,
   "metadata": {},
   "outputs": [],
   "source": [
    "params = {\n",
    "    \"max_depth\":randint(1,51),\n",
    "    \"n_estimators\":randint(1,301)\n",
    "}"
   ]
  },
  {
   "cell_type": "code",
   "execution_count": 62,
   "metadata": {},
   "outputs": [
    {
     "ename": "NameError",
     "evalue": "name 'RandomForestClassifier' is not defined",
     "output_type": "error",
     "traceback": [
      "\u001b[1;31m---------------------------------------------------------------------------\u001b[0m",
      "\u001b[1;31mNameError\u001b[0m                                 Traceback (most recent call last)",
      "\u001b[1;32m<ipython-input-62-0716b94a3390>\u001b[0m in \u001b[0;36m<module>\u001b[1;34m\u001b[0m\n\u001b[1;32m----> 1\u001b[1;33m \u001b[0mgs\u001b[0m \u001b[1;33m=\u001b[0m \u001b[0mRandomizedSearchCV\u001b[0m\u001b[1;33m(\u001b[0m\u001b[0mRandomForestClassifier\u001b[0m\u001b[1;33m(\u001b[0m\u001b[1;33m)\u001b[0m\u001b[1;33m,\u001b[0m \u001b[0mparams\u001b[0m\u001b[1;33m,\u001b[0m \u001b[0mn_jobs\u001b[0m\u001b[1;33m=\u001b[0m\u001b[1;33m-\u001b[0m\u001b[1;36m1\u001b[0m\u001b[1;33m,\u001b[0m \u001b[0mn_iter\u001b[0m\u001b[1;33m=\u001b[0m\u001b[1;36m100\u001b[0m\u001b[1;33m)\u001b[0m\u001b[1;33m\u001b[0m\u001b[1;33m\u001b[0m\u001b[0m\n\u001b[0m",
      "\u001b[1;31mNameError\u001b[0m: name 'RandomForestClassifier' is not defined"
     ]
    }
   ],
   "source": [
    "gs = RandomizedSearchCV(RandomForestClassifier(), params, n_jobs=-1, n_iter=100)"
   ]
  },
  {
   "cell_type": "code",
   "execution_count": null,
   "metadata": {},
   "outputs": [],
   "source": []
  }
 ],
 "metadata": {
  "kernelspec": {
   "display_name": "Python 3",
   "language": "python",
   "name": "python3"
  },
  "language_info": {
   "codemirror_mode": {
    "name": "ipython",
    "version": 3
   },
   "file_extension": ".py",
   "mimetype": "text/x-python",
   "name": "python",
   "nbconvert_exporter": "python",
   "pygments_lexer": "ipython3",
   "version": "3.8.5"
  },
  "toc": {
   "base_numbering": 1,
   "nav_menu": {},
   "number_sections": true,
   "sideBar": true,
   "skip_h1_title": false,
   "title_cell": "Table of Contents",
   "title_sidebar": "Contents",
   "toc_cell": false,
   "toc_position": {},
   "toc_section_display": true,
   "toc_window_display": false
  },
  "varInspector": {
   "cols": {
    "lenName": 16,
    "lenType": 16,
    "lenVar": 40
   },
   "kernels_config": {
    "python": {
     "delete_cmd_postfix": "",
     "delete_cmd_prefix": "del ",
     "library": "var_list.py",
     "varRefreshCmd": "print(var_dic_list())"
    },
    "r": {
     "delete_cmd_postfix": ") ",
     "delete_cmd_prefix": "rm(",
     "library": "var_list.r",
     "varRefreshCmd": "cat(var_dic_list()) "
    }
   },
   "types_to_exclude": [
    "module",
    "function",
    "builtin_function_or_method",
    "instance",
    "_Feature"
   ],
   "window_display": false
  }
 },
 "nbformat": 4,
 "nbformat_minor": 4
}
