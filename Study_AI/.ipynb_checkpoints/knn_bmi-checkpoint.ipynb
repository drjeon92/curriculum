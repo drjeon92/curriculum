{
 "cells": [
  {
   "cell_type": "code",
   "execution_count": 7,
   "metadata": {},
   "outputs": [],
   "source": [
    "import matplotlib.pyplot as plt\n",
    "import pandas as pd"
   ]
  },
  {
   "cell_type": "code",
   "execution_count": 8,
   "metadata": {},
   "outputs": [
    {
     "data": {
      "text/html": [
       "<div>\n",
       "<style scoped>\n",
       "    .dataframe tbody tr th:only-of-type {\n",
       "        vertical-align: middle;\n",
       "    }\n",
       "\n",
       "    .dataframe tbody tr th {\n",
       "        vertical-align: top;\n",
       "    }\n",
       "\n",
       "    .dataframe thead th {\n",
       "        text-align: right;\n",
       "    }\n",
       "</style>\n",
       "<table border=\"1\" class=\"dataframe\">\n",
       "  <thead>\n",
       "    <tr style=\"text-align: right;\">\n",
       "      <th></th>\n",
       "      <th>height</th>\n",
       "      <th>weight</th>\n",
       "      <th>label</th>\n",
       "    </tr>\n",
       "  </thead>\n",
       "  <tbody>\n",
       "    <tr>\n",
       "      <th>0</th>\n",
       "      <td>140</td>\n",
       "      <td>45</td>\n",
       "      <td>normal</td>\n",
       "    </tr>\n",
       "    <tr>\n",
       "      <th>1</th>\n",
       "      <td>145</td>\n",
       "      <td>72</td>\n",
       "      <td>fat</td>\n",
       "    </tr>\n",
       "    <tr>\n",
       "      <th>2</th>\n",
       "      <td>150</td>\n",
       "      <td>61</td>\n",
       "      <td>fat</td>\n",
       "    </tr>\n",
       "    <tr>\n",
       "      <th>3</th>\n",
       "      <td>137</td>\n",
       "      <td>56</td>\n",
       "      <td>fat</td>\n",
       "    </tr>\n",
       "    <tr>\n",
       "      <th>4</th>\n",
       "      <td>192</td>\n",
       "      <td>48</td>\n",
       "      <td>thin</td>\n",
       "    </tr>\n",
       "    <tr>\n",
       "      <th>...</th>\n",
       "      <td>...</td>\n",
       "      <td>...</td>\n",
       "      <td>...</td>\n",
       "    </tr>\n",
       "    <tr>\n",
       "      <th>19995</th>\n",
       "      <td>157</td>\n",
       "      <td>67</td>\n",
       "      <td>fat</td>\n",
       "    </tr>\n",
       "    <tr>\n",
       "      <th>19996</th>\n",
       "      <td>138</td>\n",
       "      <td>40</td>\n",
       "      <td>normal</td>\n",
       "    </tr>\n",
       "    <tr>\n",
       "      <th>19997</th>\n",
       "      <td>163</td>\n",
       "      <td>62</td>\n",
       "      <td>normal</td>\n",
       "    </tr>\n",
       "    <tr>\n",
       "      <th>19998</th>\n",
       "      <td>169</td>\n",
       "      <td>68</td>\n",
       "      <td>normal</td>\n",
       "    </tr>\n",
       "    <tr>\n",
       "      <th>19999</th>\n",
       "      <td>183</td>\n",
       "      <td>39</td>\n",
       "      <td>thin</td>\n",
       "    </tr>\n",
       "  </tbody>\n",
       "</table>\n",
       "<p>20000 rows × 3 columns</p>\n",
       "</div>"
      ],
      "text/plain": [
       "       height  weight   label\n",
       "0         140      45  normal\n",
       "1         145      72     fat\n",
       "2         150      61     fat\n",
       "3         137      56     fat\n",
       "4         192      48    thin\n",
       "...       ...     ...     ...\n",
       "19995     157      67     fat\n",
       "19996     138      40  normal\n",
       "19997     163      62  normal\n",
       "19998     169      68  normal\n",
       "19999     183      39    thin\n",
       "\n",
       "[20000 rows x 3 columns]"
      ]
     },
     "execution_count": 8,
     "metadata": {},
     "output_type": "execute_result"
    }
   ],
   "source": [
    "data = pd.read_csv(\"data/dataset-master/bmi.csv\")\n",
    "data"
   ]
  },
  {
   "cell_type": "code",
   "execution_count": 9,
   "metadata": {},
   "outputs": [
    {
     "data": {
      "text/plain": [
       "fat       7712\n",
       "thin      6338\n",
       "normal    5950\n",
       "Name: label, dtype: int64"
      ]
     },
     "execution_count": 9,
     "metadata": {},
     "output_type": "execute_result"
    }
   ],
   "source": [
    "data['label'].value_counts()"
   ]
  },
  {
   "cell_type": "code",
   "execution_count": 10,
   "metadata": {},
   "outputs": [
    {
     "data": {
      "text/plain": [
       "(20000, 3)"
      ]
     },
     "execution_count": 10,
     "metadata": {},
     "output_type": "execute_result"
    }
   ],
   "source": [
    "data.shape"
   ]
  },
  {
   "cell_type": "code",
   "execution_count": 11,
   "metadata": {},
   "outputs": [
    {
     "name": "stdout",
     "output_type": "stream",
     "text": [
      "<class 'pandas.core.frame.DataFrame'>\n",
      "RangeIndex: 20000 entries, 0 to 19999\n",
      "Data columns (total 3 columns):\n",
      " #   Column  Non-Null Count  Dtype \n",
      "---  ------  --------------  ----- \n",
      " 0   height  20000 non-null  int64 \n",
      " 1   weight  20000 non-null  int64 \n",
      " 2   label   20000 non-null  object\n",
      "dtypes: int64(2), object(1)\n",
      "memory usage: 468.9+ KB\n"
     ]
    }
   ],
   "source": [
    "data.info()"
   ]
  },
  {
   "cell_type": "code",
   "execution_count": 12,
   "metadata": {},
   "outputs": [],
   "source": [
    "# train set, test set나누기\n",
    "X = data.iloc[:, :-1]\n",
    "y = data.iloc[:, -1]"
   ]
  },
  {
   "cell_type": "code",
   "execution_count": 13,
   "metadata": {},
   "outputs": [],
   "source": [
    "X_train = X.iloc[:14000, :]\n",
    "X_test = X.iloc[14000:, :]"
   ]
  },
  {
   "cell_type": "code",
   "execution_count": 14,
   "metadata": {},
   "outputs": [
    {
     "data": {
      "text/plain": [
       "((14000, 2), (6000, 2))"
      ]
     },
     "execution_count": 14,
     "metadata": {},
     "output_type": "execute_result"
    }
   ],
   "source": [
    "X_train.shape, X_test.shape"
   ]
  },
  {
   "cell_type": "code",
   "execution_count": 15,
   "metadata": {},
   "outputs": [],
   "source": [
    "y_train = y.iloc[:14000]\n",
    "y_test = y.iloc[14000:]"
   ]
  },
  {
   "cell_type": "code",
   "execution_count": 16,
   "metadata": {},
   "outputs": [
    {
     "data": {
      "text/plain": [
       "((14000,), (6000,))"
      ]
     },
     "execution_count": 16,
     "metadata": {},
     "output_type": "execute_result"
    }
   ],
   "source": [
    "y_train.shape, y_test.shape"
   ]
  },
  {
   "cell_type": "code",
   "execution_count": 17,
   "metadata": {},
   "outputs": [],
   "source": [
    "# train set, test set 나누기 간편한 방법\n",
    "from sklearn.model_selection import train_test_split"
   ]
  },
  {
   "cell_type": "code",
   "execution_count": 21,
   "metadata": {
    "scrolled": true
   },
   "outputs": [
    {
     "data": {
      "text/html": [
       "<div>\n",
       "<style scoped>\n",
       "    .dataframe tbody tr th:only-of-type {\n",
       "        vertical-align: middle;\n",
       "    }\n",
       "\n",
       "    .dataframe tbody tr th {\n",
       "        vertical-align: top;\n",
       "    }\n",
       "\n",
       "    .dataframe thead th {\n",
       "        text-align: right;\n",
       "    }\n",
       "</style>\n",
       "<table border=\"1\" class=\"dataframe\">\n",
       "  <thead>\n",
       "    <tr style=\"text-align: right;\">\n",
       "      <th></th>\n",
       "      <th>height</th>\n",
       "      <th>weight</th>\n",
       "      <th>label</th>\n",
       "    </tr>\n",
       "  </thead>\n",
       "  <tbody>\n",
       "    <tr>\n",
       "      <th>0</th>\n",
       "      <td>140</td>\n",
       "      <td>45</td>\n",
       "      <td>normal</td>\n",
       "    </tr>\n",
       "    <tr>\n",
       "      <th>1</th>\n",
       "      <td>145</td>\n",
       "      <td>72</td>\n",
       "      <td>fat</td>\n",
       "    </tr>\n",
       "    <tr>\n",
       "      <th>2</th>\n",
       "      <td>150</td>\n",
       "      <td>61</td>\n",
       "      <td>fat</td>\n",
       "    </tr>\n",
       "    <tr>\n",
       "      <th>3</th>\n",
       "      <td>137</td>\n",
       "      <td>56</td>\n",
       "      <td>fat</td>\n",
       "    </tr>\n",
       "    <tr>\n",
       "      <th>4</th>\n",
       "      <td>192</td>\n",
       "      <td>48</td>\n",
       "      <td>thin</td>\n",
       "    </tr>\n",
       "    <tr>\n",
       "      <th>...</th>\n",
       "      <td>...</td>\n",
       "      <td>...</td>\n",
       "      <td>...</td>\n",
       "    </tr>\n",
       "    <tr>\n",
       "      <th>19995</th>\n",
       "      <td>157</td>\n",
       "      <td>67</td>\n",
       "      <td>fat</td>\n",
       "    </tr>\n",
       "    <tr>\n",
       "      <th>19996</th>\n",
       "      <td>138</td>\n",
       "      <td>40</td>\n",
       "      <td>normal</td>\n",
       "    </tr>\n",
       "    <tr>\n",
       "      <th>19997</th>\n",
       "      <td>163</td>\n",
       "      <td>62</td>\n",
       "      <td>normal</td>\n",
       "    </tr>\n",
       "    <tr>\n",
       "      <th>19998</th>\n",
       "      <td>169</td>\n",
       "      <td>68</td>\n",
       "      <td>normal</td>\n",
       "    </tr>\n",
       "    <tr>\n",
       "      <th>19999</th>\n",
       "      <td>183</td>\n",
       "      <td>39</td>\n",
       "      <td>thin</td>\n",
       "    </tr>\n",
       "  </tbody>\n",
       "</table>\n",
       "<p>20000 rows × 3 columns</p>\n",
       "</div>"
      ],
      "text/plain": [
       "       height  weight   label\n",
       "0         140      45  normal\n",
       "1         145      72     fat\n",
       "2         150      61     fat\n",
       "3         137      56     fat\n",
       "4         192      48    thin\n",
       "...       ...     ...     ...\n",
       "19995     157      67     fat\n",
       "19996     138      40  normal\n",
       "19997     163      62  normal\n",
       "19998     169      68  normal\n",
       "19999     183      39    thin\n",
       "\n",
       "[20000 rows x 3 columns]"
      ]
     },
     "execution_count": 21,
     "metadata": {},
     "output_type": "execute_result"
    }
   ],
   "source": [
    "data = pd.read_csv(\"data/dataset-master/bmi.csv\")\n",
    "data"
   ]
  },
  {
   "cell_type": "code",
   "execution_count": 22,
   "metadata": {},
   "outputs": [],
   "source": [
    "X = data.iloc[:, :2]\n",
    "y = data.iloc[:, 2]\n",
    "\n",
    "X_train, X_test, y_train, y_test = train_test_split(\n",
    "    X, y, test_size=0.3, random_state=9\n",
    ")"
   ]
  },
  {
   "cell_type": "code",
   "execution_count": 23,
   "metadata": {},
   "outputs": [
    {
     "data": {
      "text/plain": [
       "((14000, 2), (14000,), (6000, 2), (6000,))"
      ]
     },
     "execution_count": 23,
     "metadata": {},
     "output_type": "execute_result"
    }
   ],
   "source": [
    "X_train.shape, y_train.shape, X_test.shape, y_test.shape"
   ]
  },
  {
   "cell_type": "code",
   "execution_count": 24,
   "metadata": {},
   "outputs": [],
   "source": [
    "from sklearn.neighbors import KNeighborsClassifier"
   ]
  },
  {
   "cell_type": "code",
   "execution_count": 25,
   "metadata": {},
   "outputs": [],
   "source": [
    "# 학습이 안된 텅빈 모델 생성\n",
    "model = KNeighborsClassifier(n_neighbors=10)"
   ]
  },
  {
   "cell_type": "code",
   "execution_count": 26,
   "metadata": {},
   "outputs": [
    {
     "data": {
      "text/plain": [
       "KNeighborsClassifier(n_neighbors=10)"
      ]
     },
     "execution_count": 26,
     "metadata": {},
     "output_type": "execute_result"
    }
   ],
   "source": [
    "model.fit(X_train, y_train)"
   ]
  },
  {
   "cell_type": "code",
   "execution_count": 27,
   "metadata": {},
   "outputs": [
    {
     "data": {
      "text/plain": [
       "array(['fat', 'normal', 'normal', ..., 'normal', 'thin', 'thin'],\n",
       "      dtype=object)"
      ]
     },
     "execution_count": 27,
     "metadata": {},
     "output_type": "execute_result"
    }
   ],
   "source": [
    "pre = model.predict(X_test)\n",
    "pre"
   ]
  },
  {
   "cell_type": "code",
   "execution_count": 28,
   "metadata": {},
   "outputs": [],
   "source": [
    "from sklearn import metrics"
   ]
  },
  {
   "cell_type": "code",
   "execution_count": 29,
   "metadata": {},
   "outputs": [
    {
     "data": {
      "text/plain": [
       "0.9925"
      ]
     },
     "execution_count": 29,
     "metadata": {},
     "output_type": "execute_result"
    }
   ],
   "source": [
    "score = metrics.accuracy_score(y_test, pre)\n",
    "score"
   ]
  },
  {
   "cell_type": "code",
   "execution_count": 30,
   "metadata": {},
   "outputs": [
    {
     "data": {
      "text/plain": [
       "array(['normal'], dtype=object)"
      ]
     },
     "execution_count": 30,
     "metadata": {},
     "output_type": "execute_result"
    }
   ],
   "source": [
    "model.predict([[186, 80]])"
   ]
  },
  {
   "cell_type": "code",
   "execution_count": 31,
   "metadata": {
    "scrolled": true
   },
   "outputs": [
    {
     "name": "stdout",
     "output_type": "stream",
     "text": [
      " k값: 1 알고리즘 정확도: 0.9991666666666666\n",
      " k값: 2 알고리즘 정확도: 0.9988333333333334\n",
      " k값: 3 알고리즘 정확도: 0.9976666666666667\n",
      " k값: 4 알고리즘 정확도: 0.996\n",
      " k값: 5 알고리즘 정확도: 0.9946666666666667\n",
      " k값: 6 알고리즘 정확도: 0.9945\n",
      " k값: 7 알고리즘 정확도: 0.9938333333333333\n",
      " k값: 8 알고리즘 정확도: 0.994\n",
      " k값: 9 알고리즘 정확도: 0.9936666666666667\n",
      " k값: 10 알고리즘 정확도: 0.9925\n",
      " k값: 11 알고리즘 정확도: 0.992\n",
      " k값: 12 알고리즘 정확도: 0.993\n",
      " k값: 13 알고리즘 정확도: 0.9911666666666666\n",
      " k값: 14 알고리즘 정확도: 0.9905\n",
      " k값: 15 알고리즘 정확도: 0.9913333333333333\n",
      " k값: 16 알고리즘 정확도: 0.9916666666666667\n",
      " k값: 17 알고리즘 정확도: 0.9918333333333333\n",
      " k값: 18 알고리즘 정확도: 0.9916666666666667\n",
      " k값: 19 알고리즘 정확도: 0.9916666666666667\n",
      " k값: 20 알고리즘 정확도: 0.9908333333333333\n",
      " k값: 21 알고리즘 정확도: 0.9898333333333333\n",
      " k값: 22 알고리즘 정확도: 0.989\n",
      " k값: 23 알고리즘 정확도: 0.9911666666666666\n",
      " k값: 24 알고리즘 정확도: 0.9901666666666666\n",
      " k값: 25 알고리즘 정확도: 0.9903333333333333\n",
      " k값: 26 알고리즘 정확도: 0.9911666666666666\n",
      " k값: 27 알고리즘 정확도: 0.9918333333333333\n",
      " k값: 28 알고리즘 정확도: 0.9921666666666666\n",
      " k값: 29 알고리즘 정확도: 0.992\n",
      " k값: 30 알고리즘 정확도: 0.9925\n",
      " k값: 31 알고리즘 정확도: 0.9913333333333333\n",
      " k값: 32 알고리즘 정확도: 0.9906666666666667\n",
      " k값: 33 알고리즘 정확도: 0.9908333333333333\n",
      " k값: 34 알고리즘 정확도: 0.992\n",
      " k값: 35 알고리즘 정확도: 0.9921666666666666\n",
      " k값: 36 알고리즘 정확도: 0.991\n",
      " k값: 37 알고리즘 정확도: 0.9913333333333333\n",
      " k값: 38 알고리즘 정확도: 0.9918333333333333\n",
      " k값: 39 알고리즘 정확도: 0.992\n",
      " k값: 40 알고리즘 정확도: 0.9911666666666666\n",
      " k값: 41 알고리즘 정확도: 0.9916666666666667\n",
      " k값: 42 알고리즘 정확도: 0.9916666666666667\n",
      " k값: 43 알고리즘 정확도: 0.991\n",
      " k값: 44 알고리즘 정확도: 0.9915\n",
      " k값: 45 알고리즘 정확도: 0.9908333333333333\n",
      " k값: 46 알고리즘 정확도: 0.9921666666666666\n",
      " k값: 47 알고리즘 정확도: 0.9923333333333333\n",
      " k값: 48 알고리즘 정확도: 0.9928333333333333\n",
      " k값: 49 알고리즘 정확도: 0.9926666666666667\n",
      " k값: 50 알고리즘 정확도: 0.992\n",
      " k값: 51 알고리즘 정확도: 0.9921666666666666\n",
      " k값: 52 알고리즘 정확도: 0.9918333333333333\n",
      " k값: 53 알고리즘 정확도: 0.9916666666666667\n",
      " k값: 54 알고리즘 정확도: 0.9918333333333333\n",
      " k값: 55 알고리즘 정확도: 0.9925\n",
      " k값: 56 알고리즘 정확도: 0.9931666666666666\n",
      " k값: 57 알고리즘 정확도: 0.9928333333333333\n",
      " k값: 58 알고리즘 정확도: 0.9933333333333333\n",
      " k값: 59 알고리즘 정확도: 0.9931666666666666\n",
      " k값: 60 알고리즘 정확도: 0.992\n",
      " k값: 61 알고리즘 정확도: 0.9926666666666667\n",
      " k값: 62 알고리즘 정확도: 0.992\n",
      " k값: 63 알고리즘 정확도: 0.9916666666666667\n",
      " k값: 64 알고리즘 정확도: 0.991\n",
      " k값: 65 알고리즘 정확도: 0.9921666666666666\n",
      " k값: 66 알고리즘 정확도: 0.9916666666666667\n",
      " k값: 67 알고리즘 정확도: 0.9915\n",
      " k값: 68 알고리즘 정확도: 0.9915\n",
      " k값: 69 알고리즘 정확도: 0.9908333333333333\n",
      " k값: 70 알고리즘 정확도: 0.9903333333333333\n",
      " k값: 71 알고리즘 정확도: 0.991\n",
      " k값: 72 알고리즘 정확도: 0.9901666666666666\n",
      " k값: 73 알고리즘 정확도: 0.9906666666666667\n",
      " k값: 74 알고리즘 정확도: 0.9905\n",
      " k값: 75 알고리즘 정확도: 0.9908333333333333\n",
      " k값: 76 알고리즘 정확도: 0.99\n",
      " k값: 77 알고리즘 정확도: 0.991\n",
      " k값: 78 알고리즘 정확도: 0.991\n",
      " k값: 79 알고리즘 정확도: 0.9911666666666666\n",
      " k값: 80 알고리즘 정확도: 0.9908333333333333\n",
      " k값: 81 알고리즘 정확도: 0.9915\n",
      " k값: 82 알고리즘 정확도: 0.9928333333333333\n",
      " k값: 83 알고리즘 정확도: 0.9923333333333333\n",
      " k값: 84 알고리즘 정확도: 0.9925\n",
      " k값: 85 알고리즘 정확도: 0.9911666666666666\n",
      " k값: 86 알고리즘 정확도: 0.991\n",
      " k값: 87 알고리즘 정확도: 0.9918333333333333\n",
      " k값: 88 알고리즘 정확도: 0.9916666666666667\n",
      " k값: 89 알고리즘 정확도: 0.9913333333333333\n",
      " k값: 90 알고리즘 정확도: 0.9921666666666666\n",
      " k값: 91 알고리즘 정확도: 0.993\n",
      " k값: 92 알고리즘 정확도: 0.9923333333333333\n",
      " k값: 93 알고리즘 정확도: 0.9921666666666666\n",
      " k값: 94 알고리즘 정확도: 0.9925\n",
      " k값: 95 알고리즘 정확도: 0.9916666666666667\n",
      " k값: 96 알고리즘 정확도: 0.992\n",
      " k값: 97 알고리즘 정확도: 0.991\n",
      " k값: 98 알고리즘 정확도: 0.9911666666666666\n",
      " k값: 99 알고리즘 정확도: 0.9916666666666667\n",
      " k값: 100 알고리즘 정확도: 0.9925\n"
     ]
    }
   ],
   "source": [
    "# 최적의 하이퍼파라미터 찾기\n",
    "# k값에 따라 모델의 성능을 비교해보자\n",
    "for i in range(1, 101) :\n",
    "    model = KNeighborsClassifier(n_neighbors=i)\n",
    "    model.fit(X_train, y_train)\n",
    "    pre = model.predict(X_test)\n",
    "    score = metrics.accuracy_score(y_test, pre)\n",
    "    print(\" k값: {} 알고리즘 정확도: {}\".format(i, score))"
   ]
  },
  {
   "cell_type": "code",
   "execution_count": 32,
   "metadata": {
    "scrolled": true
   },
   "outputs": [
    {
     "data": {
      "text/plain": [
       "[0.9991666666666666,\n",
       " 0.9988333333333334,\n",
       " 0.9976666666666667,\n",
       " 0.996,\n",
       " 0.9946666666666667,\n",
       " 0.9945,\n",
       " 0.9938333333333333,\n",
       " 0.994,\n",
       " 0.9936666666666667,\n",
       " 0.9925,\n",
       " 0.992,\n",
       " 0.993,\n",
       " 0.9911666666666666,\n",
       " 0.9905,\n",
       " 0.9913333333333333,\n",
       " 0.9916666666666667,\n",
       " 0.9918333333333333,\n",
       " 0.9916666666666667,\n",
       " 0.9916666666666667,\n",
       " 0.9908333333333333,\n",
       " 0.9898333333333333,\n",
       " 0.989,\n",
       " 0.9911666666666666,\n",
       " 0.9901666666666666,\n",
       " 0.9903333333333333,\n",
       " 0.9911666666666666,\n",
       " 0.9918333333333333,\n",
       " 0.9921666666666666,\n",
       " 0.992,\n",
       " 0.9925,\n",
       " 0.9913333333333333,\n",
       " 0.9906666666666667,\n",
       " 0.9908333333333333,\n",
       " 0.992,\n",
       " 0.9921666666666666,\n",
       " 0.991,\n",
       " 0.9913333333333333,\n",
       " 0.9918333333333333,\n",
       " 0.992,\n",
       " 0.9911666666666666,\n",
       " 0.9916666666666667,\n",
       " 0.9916666666666667,\n",
       " 0.991,\n",
       " 0.9915,\n",
       " 0.9908333333333333,\n",
       " 0.9921666666666666,\n",
       " 0.9923333333333333,\n",
       " 0.9928333333333333,\n",
       " 0.9926666666666667,\n",
       " 0.992,\n",
       " 0.9921666666666666,\n",
       " 0.9918333333333333,\n",
       " 0.9916666666666667,\n",
       " 0.9918333333333333,\n",
       " 0.9925,\n",
       " 0.9931666666666666,\n",
       " 0.9928333333333333,\n",
       " 0.9933333333333333,\n",
       " 0.9931666666666666,\n",
       " 0.992,\n",
       " 0.9926666666666667,\n",
       " 0.992,\n",
       " 0.9916666666666667,\n",
       " 0.991,\n",
       " 0.9921666666666666,\n",
       " 0.9916666666666667,\n",
       " 0.9915,\n",
       " 0.9915,\n",
       " 0.9908333333333333,\n",
       " 0.9903333333333333,\n",
       " 0.991,\n",
       " 0.9901666666666666,\n",
       " 0.9906666666666667,\n",
       " 0.9905,\n",
       " 0.9908333333333333,\n",
       " 0.99,\n",
       " 0.991,\n",
       " 0.991,\n",
       " 0.9911666666666666,\n",
       " 0.9908333333333333,\n",
       " 0.9915,\n",
       " 0.9928333333333333,\n",
       " 0.9923333333333333,\n",
       " 0.9925,\n",
       " 0.9911666666666666,\n",
       " 0.991,\n",
       " 0.9918333333333333,\n",
       " 0.9916666666666667,\n",
       " 0.9913333333333333,\n",
       " 0.9921666666666666,\n",
       " 0.993,\n",
       " 0.9923333333333333,\n",
       " 0.9921666666666666,\n",
       " 0.9925,\n",
       " 0.9916666666666667,\n",
       " 0.992,\n",
       " 0.991,\n",
       " 0.9911666666666666,\n",
       " 0.9916666666666667,\n",
       " 0.9925]"
      ]
     },
     "execution_count": 32,
     "metadata": {},
     "output_type": "execute_result"
    }
   ],
   "source": [
    "score_list = []\n",
    "score_index = []\n",
    "\n",
    "for i in range(1, 101) :\n",
    "    model = KNeighborsClassifier(n_neighbors=i)\n",
    "    model.fit(X_train, y_train)\n",
    "    pre = model.predict(X_test)\n",
    "    score = metrics.accuracy_score(y_test, pre)\n",
    "    score_list.append(score)\n",
    "    score_index.append(i)\n",
    "    \n",
    "score_list"
   ]
  },
  {
   "cell_type": "code",
   "execution_count": 33,
   "metadata": {},
   "outputs": [
    {
     "data": {
      "text/plain": [
       "Text(0, 0.5, 'accuracy')"
      ]
     },
     "execution_count": 33,
     "metadata": {},
     "output_type": "execute_result"
    },
    {
     "data": {
      "image/png": "[encoded data removed]",
      "text/plain": [
       "<Figure size 720x576 with 1 Axes>"
      ]
     },
     "metadata": {
      "needs_background": "light"
     },
     "output_type": "display_data"
    }
   ],
   "source": [
    "plt.figure(figsize=(10,8))\n",
    "plt.plot(score_index, score_list)\n",
    "plt.xlabel(\"k count\")\n",
    "plt.ylabel(\"accuracy\")"
   ]
  },
  {
   "cell_type": "code",
   "execution_count": 34,
   "metadata": {},
   "outputs": [],
   "source": []
  },
  {
   "cell_type": "code",
   "execution_count": null,
   "metadata": {},
   "outputs": [],
   "source": []
  },
  {
   "cell_type": "code",
   "execution_count": null,
   "metadata": {},
   "outputs": [],
   "source": []
  },
  {
   "cell_type": "code",
   "execution_count": null,
   "metadata": {},
   "outputs": [],
   "source": []
  }
 ],
 "metadata": {
  "kernelspec": {
   "display_name": "Python 3",
   "language": "python",
   "name": "python3"
  },
  "language_info": {
   "codemirror_mode": {
    "name": "ipython",
    "version": 3
   },
   "file_extension": ".py",
   "mimetype": "text/x-python",
   "name": "python",
   "nbconvert_exporter": "python",
   "pygments_lexer": "ipython3",
   "version": "3.8.5"
  },
  "toc": {
   "base_numbering": 1,
   "nav_menu": {},
   "number_sections": true,
   "sideBar": true,
   "skip_h1_title": false,
   "title_cell": "Table of Contents",
   "title_sidebar": "Contents",
   "toc_cell": false,
   "toc_position": {},
   "toc_section_display": true,
   "toc_window_display": false
  },
  "varInspector": {
   "cols": {
    "lenName": 16,
    "lenType": 16,
    "lenVar": 40
   },
   "kernels_config": {
    "python": {
     "delete_cmd_postfix": "",
     "delete_cmd_prefix": "del ",
     "library": "var_list.py",
     "varRefreshCmd": "print(var_dic_list())"
    },
    "r": {
     "delete_cmd_postfix": ") ",
     "delete_cmd_prefix": "rm(",
     "library": "var_list.r",
     "varRefreshCmd": "cat(var_dic_list()) "
    }
   },
   "types_to_exclude": [
    "module",
    "function",
    "builtin_function_or_method",
    "instance",
    "_Feature"
   ],
   "window_display": false
  }
 },
 "nbformat": 4,
 "nbformat_minor": 4
}
